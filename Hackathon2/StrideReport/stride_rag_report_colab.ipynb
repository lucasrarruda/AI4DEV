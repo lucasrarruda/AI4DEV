{
 "cells": [
  {
   "cell_type": "markdown",
   "id": "f499e6fa",
   "metadata": {},
   "source": [
    "# Geração de Relatório STRIDE com RAG e Salvamento no Google Drive (Colab)\n",
    "Este notebook executa um pipeline de geração de relatório STRIDE usando RAG (busca contextual) e LLM (phi-2), com opção de salvar o resultado no Google Drive via Colab."
   ]
  },
  {
   "cell_type": "code",
   "execution_count": null,
   "id": "4652fad5",
   "metadata": {},
   "outputs": [],
   "source": [
    "from sentence_transformers import SentenceTransformer\n",
    "from transformers import AutoModelForCausalLM, AutoTokenizer, pipeline\n",
    "import faiss\n",
    "import numpy as np\n",
    "import json\n",
    "\n",
    "# Para integração com Google Drive no Colab\n",
    "try:\n",
    "    from google.colab import drive\n",
    "    IN_COLAB = True\n",
    "except ImportError:\n",
    "    IN_COLAB = False"
   ]
  },
  {
   "cell_type": "code",
   "execution_count": null,
   "id": "415ce5e0",
   "metadata": {},
   "outputs": [],
   "source": [
    "# Base de conhecimento simulada\n",
    "DOCUMENTOS = [\n",
    "    {\"componente\": \"Amazon API Gateway\", \"texto\": \"API Gateway pode ser explorado por spoofing se não houver autenticação adequada nas rotas de entrada.\"},\n",
    "    {\"componente\": \"AWS Lambda\", \"texto\": \"Lambda pode ter risco de escalonamento de privilégio se permissões IAM estiverem amplas.\"},\n",
    "    {\"componente\": \"Amazon S3\", \"texto\": \"S3 frequentemente sofre com divulgação indevida de dados quando buckets ficam publicamente acessíveis.\"},\n",
    "    {\"componente\": \"IAM\", \"texto\": \"IAM mal configurado é um vetor crítico de spoofing e privilege escalation.\"}\n",
    "]"
   ]
  },
  {
   "cell_type": "code",
   "execution_count": null,
   "id": "3f90aedc",
   "metadata": {},
   "outputs": [],
   "source": [
    "# Gerar embeddings e indexar com FAISS\n",
    "model_emb = SentenceTransformer('all-MiniLM-L6-v2')\n",
    "frases = [doc['texto'] for doc in DOCUMENTOS]\n",
    "embeddings = model_emb.encode(frases, convert_to_numpy=True)\n",
    "index = faiss.IndexFlatL2(embeddings.shape[1])\n",
    "index.add(embeddings)"
   ]
  },
  {
   "cell_type": "code",
   "execution_count": null,
   "id": "6267f547",
   "metadata": {},
   "outputs": [],
   "source": [
    "# Função de busca contextual (RAG)\n",
    "def recuperar_contexto(componentes, top_k=3):\n",
    "    contexto = []\n",
    "    for componente in componentes:\n",
    "        consultas = [doc['texto'] for doc in DOCUMENTOS if doc['componente'] == componente]\n",
    "        if not consultas:\n",
    "            continue\n",
    "        emb = model_emb.encode(consultas[0], convert_to_numpy=True).reshape(1, -1)\n",
    "        dists, idxs = index.search(emb, top_k)\n",
    "        for i in idxs[0]:\n",
    "            contexto.append(frases[i])\n",
    "    return \"\\n\".join(set(contexto))"
   ]
  },
  {
   "cell_type": "code",
   "execution_count": null,
   "id": "89415f1a",
   "metadata": {},
   "outputs": [],
   "source": [
    "# Função de geração de relatório com LLM (phi-2)\n",
    "def gerar_relatorio(componentes, contexto):\n",
    "    prompt = f\"\"\"\n",
    "Você é um analista de segurança da informação. Com base nos componentes abaixo e no conteúdo técnico a seguir, gere um relatório explicando:\\n1. Ameaças detectadas (por STRIDE)\\n2. Justificativa técnica\\n3. Recomendações\\n\\nComponentes:\\n{', '.join(componentes)}\\n\\nContexto técnico:\\n{contexto}\\n\\nRelatório:\\n\"\"\"\n",
    "    tokenizer = AutoTokenizer.from_pretrained(\"microsoft/phi-2\")\n",
    "    model = AutoModelForCausalLM.from_pretrained(\"microsoft/phi-2\")\n",
    "    pipe = pipeline(\"text-generation\", model=model, tokenizer=tokenizer)\n",
    "    resposta = pipe(prompt, max_new_tokens=300, do_sample=True, temperature=0.7)[0]['generated_text']\n",
    "    return resposta"
   ]
  },
  {
   "cell_type": "code",
   "execution_count": null,
   "id": "b1959873",
   "metadata": {},
   "outputs": [],
   "source": [
    "# Executar pipeline de geração de relatório\n",
    "componentes_detectados = [\"Amazon API Gateway\", \"AWS Lambda\", \"Amazon S3\"]  # Edite conforme necessário\n",
    "contexto = recuperar_contexto(componentes_detectados)\n",
    "relatorio = gerar_relatorio(componentes_detectados, contexto)\n",
    "print(\"\\n===== RELATÓRIO GERADO =====\\n\")\n",
    "print(relatorio)"
   ]
  },
  {
   "cell_type": "code",
   "execution_count": null,
   "id": "07ffdc90",
   "metadata": {},
   "outputs": [],
   "source": [
    "# Salvar relatório gerado em caminho definido pelo usuário (Google Drive)\n",
    "if IN_COLAB:\n",
    "    drive.mount('/content/drive')\n",
    "    save_path = input('Digite o caminho completo para salvar o relatório (ex: /content/drive/MyDrive/relatorio_stride.txt): ')\n",
    "else:\n",
    "    save_path = input('Digite o caminho completo para salvar o relatório (ex: ./relatorio_stride.txt): ')\n",
    "\n",
    "with open(save_path, 'w', encoding='utf-8') as f:\n",
    "    f.write(relatorio)\n",
    "print(f'Relatório salvo em: {save_path}')"
   ]
  },
  {
   "cell_type": "code",
   "execution_count": null,
   "id": "6b6ee6e3",
   "metadata": {},
   "outputs": [],
   "source": [
    "# Instale as dependências necessárias (execute apenas uma vez por ambiente)\n",
    "!pip install sentence-transformers faiss-cpu transformers"
   ]
  }
 ],
 "metadata": {
  "language_info": {
   "name": "python"
  }
 },
 "nbformat": 4,
 "nbformat_minor": 5
}
